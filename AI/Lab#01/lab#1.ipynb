{
 "cells": [
  {
   "cell_type": "markdown",
   "id": "789c0cf5-c47e-4f87-90c3-5bec7464d05b",
   "metadata": {},
   "source": [
    "Q1 Write a Script that Take user input for a number then add 3 to that number. then multiplies the reasult by 2 ,then subtract 4 then add 3 then print the result"
   ]
  },
  {
   "cell_type": "code",
   "execution_count": 53,
   "id": "dec5651f-c9f4-48ea-80de-2223dfb6c608",
   "metadata": {},
   "outputs": [
    {
     "name": "stdin",
     "output_type": "stream",
     "text": [
      "Enter Any number 9\n"
     ]
    },
    {
     "name": "stdout",
     "output_type": "stream",
     "text": [
      "23\n"
     ]
    }
   ],
   "source": [
    "user_in = int(input(\"Enter Any number\"))\n",
    "user_in += 3\n",
    "user_in*=2\n",
    "user_in-=4\n",
    "user_in+=3\n",
    "print(user_in)"
   ]
  },
  {
   "cell_type": "markdown",
   "id": "535e5f55-10a7-4dec-a360-26c9ce676971",
   "metadata": {},
   "source": [
    "Q2 write a script that takes input as Celsius and then convert Celcius to Farenheit   "
   ]
  },
  {
   "cell_type": "code",
   "execution_count": 54,
   "id": "3c58e18f-dcee-4bf1-a07d-0516dc893f65",
   "metadata": {},
   "outputs": [
    {
     "name": "stdin",
     "output_type": "stream",
     "text": [
      "Enter Temp 98\n"
     ]
    },
    {
     "name": "stdout",
     "output_type": "stream",
     "text": [
      "208.4\n"
     ]
    }
   ],
   "source": [
    "cel = float(input(\"Enter Temp\"))\n",
    "far = (cel*1.8)+32\n",
    "print(far)"
   ]
  },
  {
   "cell_type": "markdown",
   "id": "46eac1dc-bf14-4570-846e-2e00ecda32c9",
   "metadata": {},
   "source": [
    "Q3 write a script that takes input as radius then calculate area of circle "
   ]
  },
  {
   "cell_type": "code",
   "execution_count": 55,
   "id": "58a3b285-9e9d-4afb-b4a7-bf0cd6758fb4",
   "metadata": {},
   "outputs": [
    {
     "name": "stdin",
     "output_type": "stream",
     "text": [
      "Enter Radius to calculate the area of circle  8\n"
     ]
    },
    {
     "name": "stdout",
     "output_type": "stream",
     "text": [
      "201.14285714285714\n"
     ]
    }
   ],
   "source": [
    "rad = float(input(\"Enter Radius to calculate the area of circle \"))\n",
    "circle= 22/7 * rad**2\n",
    "print(circle)"
   ]
  },
  {
   "cell_type": "markdown",
   "id": "82db74ad-fdcc-4add-afd5-199f1fa5872d",
   "metadata": {},
   "source": [
    "Q4 write a script to ask a color to user and create the following output assuming  blue is the color "
   ]
  },
  {
   "cell_type": "code",
   "execution_count": 6,
   "id": "73a99712-4378-4728-a23f-db0a9c49e98e",
   "metadata": {},
   "outputs": [
    {
     "name": "stdin",
     "output_type": "stream",
     "text": [
      "Enter Your Fav color white\n"
     ]
    },
    {
     "name": "stdout",
     "output_type": "stream",
     "text": [
      "whitewhitewhitewhitewhitewhitewhitewhitewhitewhite\n",
      "white                                        white\n",
      "whitewhitewhitewhitewhitewhitewhitewhitewhitewhite\n"
     ]
    }
   ],
   "source": [
    "user = input(\"Enter Your Fav color\")\n",
    "print(user*10)\n",
    "print(str(user)+str((len(user)*8)*\" \") + str(user) )\n",
    "print(user*10)"
   ]
  },
  {
   "cell_type": "markdown",
   "id": "50f1e461-b920-4b6b-8f3f-a8751746c580",
   "metadata": {},
   "source": [
    "Q5 store a person's name , and include some whitesapce characters at the begining end of the name. make sure use each character combination \"\\t\" AND \"\\n\" at least once. print the name once ,so the whitespace around the name is displayed, then print the name using each of the three stripping function istrip(),rstrip(),then strip()  "
   ]
  },
  {
   "cell_type": "code",
   "execution_count": 62,
   "id": "93d9a877-7a8e-4d16-b50d-8f78fee7c4ef",
   "metadata": {},
   "outputs": [
    {
     "name": "stdin",
     "output_type": "stream",
     "text": [
      "Enter your name talha\n"
     ]
    },
    {
     "name": "stdout",
     "output_type": "stream",
     "text": [
      "\n",
      "\t talha\n",
      "talha \n",
      "\t\n",
      "talha\n"
     ]
    }
   ],
   "source": [
    "person = input(\"Enter your name\")\n",
    "person = (f\"\\n\\t {person} \\n\\t\")\n",
    "print(person.rstrip())\n",
    "print(person.lstrip())\n",
    "print(person.strip())"
   ]
  },
  {
   "cell_type": "markdown",
   "id": "c2b38593-1242-432b-80fe-471c376a2f23",
   "metadata": {},
   "source": [
    "Modulas function"
   ]
  },
  {
   "cell_type": "code",
   "execution_count": 72,
   "id": "a99a76aa-690c-467e-b1e5-a6d86ad654fb",
   "metadata": {},
   "outputs": [
    {
     "name": "stdin",
     "output_type": "stream",
     "text": [
      "enter any number 4\n",
      "enter any number 5\n"
     ]
    },
    {
     "name": "stdout",
     "output_type": "stream",
     "text": [
      "4.0\n"
     ]
    }
   ],
   "source": [
    "Num=float(input(\"enter any number\"))\n",
    "Num1=float(input(\"enter any number\"))\n",
    "mud = Num % Num1\n",
    "print(mud)"
   ]
  },
  {
   "cell_type": "code",
   "execution_count": 63,
   "id": "fae522a4-d103-4f3f-a497-47911fe48a9d",
   "metadata": {},
   "outputs": [],
   "source": [
    "import math"
   ]
  },
  {
   "cell_type": "markdown",
   "id": "f2ed3a1b-eb8d-43fb-813c-f99ac18fdc6b",
   "metadata": {},
   "source": [
    "Create a scientific calculator using user input"
   ]
  },
  {
   "cell_type": "code",
   "execution_count": 69,
   "id": "e56456ff-be75-4fe7-a809-c61741bc3a8f",
   "metadata": {},
   "outputs": [
    {
     "name": "stdin",
     "output_type": "stream",
     "text": [
      "Enter Number 6\n",
      "Enter Number 5\n"
     ]
    },
    {
     "name": "stdout",
     "output_type": "stream",
     "text": [
      "add two values 11.0\n",
      "add two values 30.0\n",
      "add two values 1.2\n",
      "add two values 1.0\n"
     ]
    }
   ],
   "source": [
    "user_val1 = float(input(\"Enter Number\"))\n",
    "user_val2 = float(input(\"Enter Number\"))\n",
    "user_sign=input(\"enter sign (+,-,*,/)\")\n",
    "\n",
    "if(user_sign==\"+\" or user_sign==\"-\" or user_sign==\"*\" or user_sign==\"/\"):\n",
    "    print(f\"{user_val user_sign user_val2}\")\n",
    "    \n",
    "    \n",
    "# print(f\"add two values {user_val1+user_val2}\")\n",
    "# print(f\"add two values {user_val1*user_val2}\")\n",
    "# print(f\"add two values {user_val1/user_val2}\")\n",
    "# print(f\"add two values {user_val1-user_val2}\")\n"
   ]
  },
  {
   "cell_type": "code",
   "execution_count": 75,
   "id": "0af68993-4071-42a4-9206-124b72f2a39d",
   "metadata": {},
   "outputs": [
    {
     "name": "stdin",
     "output_type": "stream",
     "text": [
      "Enter any string value Rainbow\n"
     ]
    },
    {
     "name": "stdout",
     "output_type": "stream",
     "text": [
      "7\n"
     ]
    }
   ],
   "source": [
    "user_inp = input(\"Enter any string value\")\n",
    "print(len(user_inp))"
   ]
  },
  {
   "cell_type": "code",
   "execution_count": 97,
   "id": "50d6cfce-861f-4c0c-ba5d-67c56315f8ee",
   "metadata": {},
   "outputs": [
    {
     "ename": "SyntaxError",
     "evalue": "incomplete input (3238648279.py, line 2)",
     "output_type": "error",
     "traceback": [
      "\u001b[1;36m  Cell \u001b[1;32mIn[97], line 2\u001b[1;36m\u001b[0m\n\u001b[1;33m    print(user_inp.indexOf(\"a\")\u001b[0m\n\u001b[1;37m                               ^\u001b[0m\n\u001b[1;31mSyntaxError\u001b[0m\u001b[1;31m:\u001b[0m incomplete input\n"
     ]
    }
   ],
   "source": [
    "user_inp = \"Rainbow\"\n",
    "for i in user_inp:\n",
    "    print(index(i))"
   ]
  },
  {
   "cell_type": "code",
   "execution_count": 96,
   "id": "094d311f-55ed-40ac-b3dd-f072636a9aa7",
   "metadata": {},
   "outputs": [
    {
     "name": "stdout",
     "output_type": "stream",
     "text": [
      "3\n"
     ]
    }
   ],
   "source": [
    "list=[\"r\",\"b\",\"d\",\"m\"]\n",
    "print(list.index(\"m\"))"
   ]
  },
  {
   "cell_type": "code",
   "execution_count": 90,
   "id": "a2fb7759-bc3e-4034-9b72-1af49d18e770",
   "metadata": {},
   "outputs": [
    {
     "name": "stdin",
     "output_type": "stream",
     "text": [
      "Enter value of x:  6\n",
      "Enter value of y:  7\n"
     ]
    },
    {
     "name": "stdout",
     "output_type": "stream",
     "text": [
      "The value of x after swapping: 7\n",
      "The value of y after swapping: 6\n"
     ]
    }
   ],
   "source": [
    "x = input('Enter value of x: ')\n",
    "y = input('Enter value of y: ')\n",
    "temp = x\n",
    "x = y\n",
    "y = temp\n",
    "\n",
    "print('The value of x after swapping: {}'.format(x))\n",
    "print('The value of y after swapping: {}'.format(y))"
   ]
  },
  {
   "cell_type": "code",
   "execution_count": null,
   "id": "29b66981-abf1-4329-9e5c-79ad4c3803b2",
   "metadata": {},
   "outputs": [],
   "source": []
  }
 ],
 "metadata": {
  "kernelspec": {
   "display_name": "Python 3 (ipykernel)",
   "language": "python",
   "name": "python3"
  },
  "language_info": {
   "codemirror_mode": {
    "name": "ipython",
    "version": 3
   },
   "file_extension": ".py",
   "mimetype": "text/x-python",
   "name": "python",
   "nbconvert_exporter": "python",
   "pygments_lexer": "ipython3",
   "version": "3.11.8"
  }
 },
 "nbformat": 4,
 "nbformat_minor": 5
}
