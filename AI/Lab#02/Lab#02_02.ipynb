{
 "cells": [
  {
   "cell_type": "code",
   "execution_count": 4,
   "id": "5641e652-f1fc-42db-b65e-d41f4a3c47a9",
   "metadata": {},
   "outputs": [
    {
     "name": "stdin",
     "output_type": "stream",
     "text": [
      "please enter a number 12\n",
      "please enter a range 12\n",
      "please enter a number 12\n"
     ]
    },
    {
     "name": "stdout",
     "output_type": "stream",
     "text": [
      "12 is the larget number\n"
     ]
    }
   ],
   "source": [
    "#1. Write a Python function to find the maximum of three numbers\n",
    "a = int(input('please enter a number'))\n",
    "b = int(input('please enter a range'))\n",
    "c = int(input('please enter a number'))\n",
    "if (a >= b) and (a >= c): \n",
    "    print(a, \"is the larget number\") \n",
    "elif (b >= a) and (b >= c): \n",
    "    print(b, \"is the larget number\")\n",
    "else: \n",
    "    print(c, \"is the larget number\")\n",
    "\n"
   ]
  },
  {
   "cell_type": "code",
   "execution_count": 40,
   "id": "58e6096b-339d-496c-b659-8607ef971f5d",
   "metadata": {},
   "outputs": [
    {
     "name": "stdin",
     "output_type": "stream",
     "text": [
      "please enter a number UMAR\n"
     ]
    },
    {
     "name": "stdout",
     "output_type": "stream",
     "text": [
      "RAMU\n"
     ]
    }
   ],
   "source": [
    "# Write a Python program to reverse a string.\n",
    "a = input('please enter a number')\n",
    "result = '';\n",
    "for j in range(0-1,-1,-1):\n",
    "    result+= a[j]\n",
    "print(result)"
   ]
  },
  {
   "cell_type": "code",
   "execution_count": 21,
   "id": "e0124a2a-ae66-4229-b7b3-1cf6626b8256",
   "metadata": {},
   "outputs": [
    {
     "name": "stdout",
     "output_type": "stream",
     "text": [
      "5 is in the range\n"
     ]
    }
   ],
   "source": [
    "# Write a Python function to check whether a number falls within a given range.\n",
    "def test_range(n):\n",
    "    if n in range(3, 9):\n",
    "        print(\"%s is in the range\" % str(n))\n",
    "    else:\n",
    "        print(\"The number is outside the given range.\")\n",
    "test_range(5)\n"
   ]
  },
  {
   "cell_type": "code",
   "execution_count": 22,
   "id": "f8fab19a-4244-4e26-8688-aa524c1b92d8",
   "metadata": {},
   "outputs": [
    {
     "name": "stdout",
     "output_type": "stream",
     "text": [
      "apple\n",
      "banana\n",
      "cherry\n"
     ]
    }
   ],
   "source": [
    "# . Python function that accepts a list as a parameter\n",
    "def my_function(food):\n",
    "  for x in food:\n",
    "    print(x)\n",
    "fruits = [\"apple\", \"banana\", \"cherry\"]\n",
    "\n",
    "my_function(fruits)"
   ]
  },
  {
   "cell_type": "code",
   "execution_count": 31,
   "id": "3fb7ddc0-9c85-4139-b063-34dd40d82147",
   "metadata": {},
   "outputs": [
    {
     "name": "stdout",
     "output_type": "stream",
     "text": [
      "17 , 24\n"
     ]
    }
   ],
   "source": [
    "# Write python program that creates a function SwapNumbers() that takes two parameters And outputs the number swapped\n",
    "def swapNumbers(a,b):\n",
    "    a = a+b;\n",
    "    b = a-b\n",
    "    a = a-b\n",
    "    print(a,\",\",b)\n",
    "\n",
    "swapNumbers(24,17)"
   ]
  },
  {
   "cell_type": "code",
   "execution_count": 34,
   "id": "a9f44610-aeba-4c03-b774-ccc89b322d88",
   "metadata": {},
   "outputs": [
    {
     "name": "stdout",
     "output_type": "stream",
     "text": [
      "karachi is in pakistan\n",
      "delhi is in india\n",
      "sukkur is in pakistan\n"
     ]
    }
   ],
   "source": [
    "# . Write a function called describe_city( ) that accepts the name of a city and its country. The\n",
    "# function should print a simple sentence, such as Islamabad is in Pakistan. Give the parameter\n",
    "# for the country a default value. Call your function for three different cities, at least one of which\n",
    "# is not in the default country.\n",
    "def describe_city(city, country = 'pakistan'):\n",
    "    print(city + \" is in \"+ country)\n",
    "describe_city(\"karachi\")\n",
    "describe_city(\"delhi\", \"india\")\n",
    "describe_city(\"sukkur\")"
   ]
  },
  {
   "cell_type": "code",
   "execution_count": 39,
   "id": "97df9043-8c07-4f8e-90c5-d741be6894ff",
   "metadata": {},
   "outputs": [
    {
     "name": "stdout",
     "output_type": "stream",
     "text": [
      "2\n"
     ]
    }
   ],
   "source": [
    "# Write a function called absolute_num() that accepts one parameter, num. The function should\n",
    "# return only positive value, and apply condition on it. This function returns the absolute value\n",
    "# of the entered number.\n",
    "\n",
    "def absolute_num(num):\n",
    "    if num < 0 : \n",
    "        num = num*-1;\n",
    "        print(num)\n",
    "    else:\n",
    "        print(num)\n",
    "absolute_num(2)"
   ]
  },
  {
   "cell_type": "code",
   "execution_count": null,
   "id": "0a99b0df-c936-4448-ae41-f2556854b431",
   "metadata": {},
   "outputs": [],
   "source": []
  }
 ],
 "metadata": {
  "kernelspec": {
   "display_name": "Python 3 (ipykernel)",
   "language": "python",
   "name": "python3"
  },
  "language_info": {
   "codemirror_mode": {
    "name": "ipython",
    "version": 3
   },
   "file_extension": ".py",
   "mimetype": "text/x-python",
   "name": "python",
   "nbconvert_exporter": "python",
   "pygments_lexer": "ipython3",
   "version": "3.11.8"
  }
 },
 "nbformat": 4,
 "nbformat_minor": 5
}
