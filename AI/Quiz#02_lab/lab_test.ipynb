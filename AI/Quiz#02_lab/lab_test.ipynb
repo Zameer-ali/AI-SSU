{
 "cells": [
  {
   "cell_type": "code",
   "execution_count": 15,
   "id": "b4a041c3-b3ab-4485-9462-a70f67bf15be",
   "metadata": {},
   "outputs": [
    {
     "name": "stdout",
     "output_type": "stream",
     "text": [
      "orange\n",
      "grape exits in array\n",
      "['apple', 'orange', 'grape', 'kiwi', 'pineapple']\n"
     ]
    }
   ],
   "source": [
    "#1.Create a list named fruits containing the following fruits: \"apple\", \"banana\", \"orange\", \"grape\", \"kiwi\".\n",
    "fruits = [\"apple\", \"banana\", \"orange\", \"grape\", \"kiwi\"]\n",
    "#2. Print the third element of the list.\n",
    "print(fruits[2]);\n",
    "#3. Add \"pineapple\" to the end of the list.\n",
    "fruits.append(\"pineapple\")\n",
    "#4. Remove \"banana\" from the list.\n",
    "fruits.remove(\"banana\")\n",
    "#5. Print the length of the list.\n",
    "len(fruits)\n",
    "#6. Check if \"grape\" is in the list.\n",
    "flag = 1;\n",
    "for i in fruits:\n",
    "    if i == \"grape\":\n",
    "        print(\"grape exits in array\")\n",
    "        flag = 0\n",
    "if flag:\n",
    "    print(\"grape not exits in array\")\n",
    "print(fruits)"
   ]
  },
  {
   "cell_type": "code",
   "execution_count": 19,
   "id": "00aaee94-4a5a-4a5c-8e32-2c168684eab2",
   "metadata": {},
   "outputs": [
    {
     "name": "stdout",
     "output_type": "stream",
     "text": [
      "green\n",
      "2\n",
      "blue exits in array\n"
     ]
    }
   ],
   "source": [
    "# 1. Create a tuple named colors containing the following colors: \"red\", \"green\", \"blue\", \"yellow\", \"orange\".\n",
    "colors = (\"red\", \"green\", \"blue\", \"yellow\", \"orange\")\n",
    "# 2. Print the second element of the tuple.\n",
    "print(colors[1]);\n",
    "# 3. Print the index of \"blue\" in the tuple.\n",
    "print(colors.index(\"blue\"))\n",
    "# 4. Check if \"black\" is in the tuple.\n",
    "flag = 1;\n",
    "for i in colors:\n",
    "    if i == \"blue\":\n",
    "        print(\"blue exits in array\")\n",
    "        flag = 0\n",
    "if flag:\n",
    "    print(\"blue not exits in array\")\n"
   ]
  },
  {
   "cell_type": "code",
   "execution_count": 24,
   "id": "a421d5f2-daba-4bb1-b103-399976acec24",
   "metadata": {},
   "outputs": [
    {
     "name": "stdout",
     "output_type": "stream",
     "text": [
      "35\n",
      "dict_keys(['Alice', 'Bob', 'Charlie', 'Eve'])\n"
     ]
    }
   ],
   "source": [
    "# 1. Create a dictionary named ages with the following key-value pairs: \"Alice\": 30, \"Bob\": 25, \"Charlie\": 35, \"David\": 40.\n",
    "users = {\"Alice\": 30, \"Bob\": 25, \"Charlie\": 35, \"David\": 40}\n",
    "# 2. Print the age of \"Charlie\".\n",
    "print(users[\"Charlie\"])\n",
    "# 3. Add \"Eve\" with age 28 to the dictionary.\n",
    "users[\"Eve\"] = 28;\n",
    "# 4. Remove \"David\" from the dictionary.\n",
    "del users[\"David\"];\n",
    "# 5. Print the keys of the dictionary.\n",
    "print(users.keys())\n"
   ]
  },
  {
   "cell_type": "code",
   "execution_count": null,
   "id": "196dad8e-be30-42aa-9407-e0f6c88f34cc",
   "metadata": {},
   "outputs": [],
   "source": [
    "# 1. Create a DataFrame named students with columns \"Name\" and \"Age\" containing the following data\n",
    "import pandas as pd\n",
    "\n",
    "data = pd.read_csv(\"users.csv\");\n",
    "df = pd.DataFrame(data);\n",
    "# 2. Print the first 2 rows of the DataFrame.\n",
    "print(df.head(2))\n",
    "# 3. Print the mean age of the students.\n",
    "print(df['age'].mean())\n"
   ]
  },
  {
   "cell_type": "code",
   "execution_count": 37,
   "id": "41629670-1e80-4c0f-9ff3-283d578c5be9",
   "metadata": {},
   "outputs": [],
   "source": [
    "# 1. Create two sets named set1 and set2 containing the following elements: set1={1, 2, 3, 4, 5} and set2={4, 5, 6, 7, 8}.\n",
    "set1={1, 2, 3, 4, 5}\n",
    "set2={4, 5, 6, 7, 8}\n",
    "# 2. Print the union of set1 and set2.\n",
    "# 3. Print the intersection of set1 and set2.\n",
    "# 4. Add element 9 to set1.\n",
    "# 5. Remove element 4 from set2.\n"
   ]
  }
 ],
 "metadata": {
  "kernelspec": {
   "display_name": "Python 3 (ipykernel)",
   "language": "python",
   "name": "python3"
  },
  "language_info": {
   "codemirror_mode": {
    "name": "ipython",
    "version": 3
   },
   "file_extension": ".py",
   "mimetype": "text/x-python",
   "name": "python",
   "nbconvert_exporter": "python",
   "pygments_lexer": "ipython3",
   "version": "3.11.7"
  }
 },
 "nbformat": 4,
 "nbformat_minor": 5
}
