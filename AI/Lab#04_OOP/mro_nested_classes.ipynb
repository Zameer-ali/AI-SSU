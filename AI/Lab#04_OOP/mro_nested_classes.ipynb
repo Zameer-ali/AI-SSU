{
 "cells": [
  {
   "cell_type": "code",
   "execution_count": null,
   "id": "d04a738a",
   "metadata": {},
   "outputs": [],
   "source": [
    "# class MyInfo():\n",
    "#     def __init__(self, my_name, brother_name, father_name):\n",
    "#         self.my_name = my_name;\n",
    "#         self._brother_name = brother_name;\n",
    "#         self.__father_name = father_name;\n",
    "#     def myName(self):\n",
    "#         return self.my_name\n",
    "#     def _brotherName(self):\n",
    "#         return self._brother_name;\n",
    "#     def __fatherName(self):\n",
    "#         return self.__father_name;\n",
    "# info = MyInfo(\"Raza\", \"Ali\", \"Ahmed\");\n",
    "\n",
    "# # access through methods\n",
    "# print(info.myName());\n",
    "# print(info._brotherName());\n",
    "# print(info._MyInfo__fatherName());\n",
    "\n",
    "# print(\">>>>>>>>>>>>>>>>>>>>>>>>>>>>>>>>\")\n",
    "\n",
    "# # access throgh variables\n",
    "# print(info.my_name);\n",
    "# print(info._brother_name);\n",
    "# print(info._MyInfo__father_name);"
   ]
  },
  {
   "cell_type": "code",
   "execution_count": 33,
   "id": "71337278",
   "metadata": {},
   "outputs": [
    {
     "name": "stdout",
     "output_type": "stream",
     "text": [
      "Raza\n",
      "ali\n",
      "Ahemd\n"
     ]
    }
   ],
   "source": [
    "class MyInfo():\n",
    "    def __init__(self, my_name):\n",
    "        self.my_name = my_name;\n",
    "    def myName(self):\n",
    "        return self.my_name\n",
    "    \n",
    "    \n",
    "    class InnerClass():\n",
    "        def __init__(self, brother_name, father_name):\n",
    "            self.brother_name = brother_name;\n",
    "            self.father_name = father_name;\n",
    "        def brotherName(self):\n",
    "            return self.brother_name;\n",
    "        def fatherName(self):\n",
    "            return self.father_name;\n",
    "        \n",
    "        \n",
    "info = MyInfo(\"Raza\");\n",
    "family = info.InnerClass(\"ali\", \"Ahemd\")\n",
    "# access through methods\n",
    "print(info.myName());\n",
    "print(family.brotherName());\n",
    "print(family.fatherName());\n"
   ]
  }
 ],
 "metadata": {
  "kernelspec": {
   "display_name": "Python 3 (ipykernel)",
   "language": "python",
   "name": "python3"
  },
  "language_info": {
   "codemirror_mode": {
    "name": "ipython",
    "version": 3
   },
   "file_extension": ".py",
   "mimetype": "text/x-python",
   "name": "python",
   "nbconvert_exporter": "python",
   "pygments_lexer": "ipython3",
   "version": "3.9.7"
  }
 },
 "nbformat": 4,
 "nbformat_minor": 5
}
