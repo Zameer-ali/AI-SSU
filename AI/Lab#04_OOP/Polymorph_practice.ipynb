{
 "cells": [
  {
   "cell_type": "code",
   "execution_count": 11,
   "id": "aef87aee",
   "metadata": {},
   "outputs": [
    {
     "name": "stdout",
     "output_type": "stream",
     "text": [
      "area in circle in class\n",
      "area in Rectangle in class\n"
     ]
    }
   ],
   "source": [
    "\"\"\"Q1: Create a base class Shape with a method area(). Create two subclasses Circle and Rectangle which override the \n",
    "area() method. Demonstrate polymorphism by calling the area() method on instances of both subclasses.\"\"\"\n",
    "\n",
    "class Shape:\n",
    "    def area(self):\n",
    "        print(\"area in shape in class\")\n",
    "class Circle(Shape):\n",
    "    def area(self):\n",
    "        print(\"area in circle in class\")\n",
    "class Rectangle(Shape):\n",
    "    def area(self):\n",
    "        print(\"area in Rectangle in class\")\n",
    "circle = Circle();\n",
    "rectangle = Rectangle()\n",
    "circle.area()\n",
    "rectangle.area()"
   ]
  },
  {
   "cell_type": "code",
   "execution_count": 38,
   "id": "403157bc",
   "metadata": {},
   "outputs": [
    {
     "name": "stdout",
     "output_type": "stream",
     "text": [
      "(5, 9)\n"
     ]
    }
   ],
   "source": [
    "\"\"\"Q2: Create a class Point that represents a point in 2D space. Implement the __add__ method \n",
    "to allow adding two points together.\"\"\"\n",
    "\n",
    "class Point:\n",
    "    def __init__(self,x, y):\n",
    "        self.x = x;\n",
    "        self.y = y;\n",
    "        \n",
    "    def __add__(self, other):\n",
    "        return self.x + other.x, self.y + other.y;\n",
    "\n",
    "point1 = Point(2,4)\n",
    "point2 = Point(3,5)\n",
    "print( point1+point2)"
   ]
  },
  {
   "cell_type": "code",
   "execution_count": 39,
   "id": "c3ca529d",
   "metadata": {},
   "outputs": [
    {
     "name": "stdout",
     "output_type": "stream",
     "text": [
      "(6, 20)\n"
     ]
    }
   ],
   "source": [
    "\"\"\"Q3: Extend the Point class to support multiplication by a scalar value. Implement the __mul__ method\n",
    "to allow multiplying a point by a scalar.\"\"\"\n",
    "\n",
    "class Point:\n",
    "    def __init__(self,x, y):\n",
    "        self.x = x;\n",
    "        self.y = y;\n",
    "        \n",
    "    def __mul__(self, other):\n",
    "        return self.x * other.x, self.y * other.y;\n",
    "\n",
    "point1 = Point(2,4)\n",
    "point2 = Point(3,5)\n",
    "print( point1*point2)"
   ]
  },
  {
   "cell_type": "code",
   "execution_count": 82,
   "id": "e88b3fa6",
   "metadata": {},
   "outputs": [
    {
     "name": "stdout",
     "output_type": "stream",
     "text": [
      "ali has less marks than raza\n"
     ]
    }
   ],
   "source": [
    "\"\"\"Q4: Operator Overloading - Comparison: Create a class Student with attributes name and grade.\n",
    "Implement the __lt__ method to allow comparing two students based on their grades.\"\"\"\n",
    "\n",
    "class Student:\n",
    "    def __init__(self,name,x):\n",
    "        self.name = name;\n",
    "        self.x    = x;\n",
    "        \n",
    "    def __lt__(self, other):\n",
    "        return self.x < other.x\n",
    "std1 = Student(\"ali\" , 30)\n",
    "std2 = Student(\"raza\" ,33)\n",
    "if(Student.__lt__(std1 , std2)):\n",
    "    print(f\"{std1.name} has less marks than {std2.name}\")\n",
    "else:\n",
    "    print(f\"{std1.name} has greater marks than {std2.name}\")\n",
    "\n"
   ]
  },
  {
   "cell_type": "code",
   "execution_count": 41,
   "id": "4de964ac",
   "metadata": {},
   "outputs": [
    {
     "name": "stdout",
     "output_type": "stream",
     "text": [
      "Buddy says Woof!\n",
      "Max says Bark!\n"
     ]
    }
   ],
   "source": [
    "\"\"\"Q5: Define naclass Animal with a method speak(). Implement two classes Dog and Cat that implement the speak() method differently. Demonstrate polymorphism by creating instances of both classes\n",
    "and calling the speak() method.\"\"\"\n",
    "\n",
    "class Animal:\n",
    "    def __init__(self, name):\n",
    "        self.name = name\n",
    "\n",
    "    def speak(self):\n",
    "        pass \n",
    "\n",
    "class Dog(Animal):\n",
    "    def speak(self):\n",
    "        return f\"{self.name} says Woof!\"\n",
    "\n",
    "class Labrador(Dog):\n",
    "    def speak(self):\n",
    "        return f\"{self.name} says Bark!\"\n",
    "\n",
    "\n",
    "d = Dog(\"Buddy\")\n",
    "l = Labrador(\"Max\")\n",
    "\n",
    "print(d.speak())  \n",
    "print(l.speak())  "
   ]
  },
  {
   "cell_type": "code",
   "execution_count": 84,
   "id": "b2b5f48b",
   "metadata": {},
   "outputs": [
    {
     "name": "stdout",
     "output_type": "stream",
     "text": [
      "Radius of the circle: 7\n",
      "Circle Area: 153.93804002589985\n",
      "\n",
      "Rectangle: Length = 5  Width = 7\n",
      "Rectangle Area: 35\n"
     ]
    }
   ],
   "source": [
    "\"\"\"Q6: Create a function calculate_area() that can accept either a Circle object or a Rectangle object\n",
    " and returns the area accordingly.\"\"\"\n",
    "import math\n",
    "class Shape:\n",
    "    def calculate_area(self):\n",
    "        pass\n",
    "class Circle(Shape):\n",
    "    def __init__(self, radius):\n",
    "        self.radius = radius\n",
    "    def calculate_area(self):\n",
    "        return math.pi * self.radius**2\n",
    "class Rectangle(Shape):\n",
    "    def __init__(self, length, width):\n",
    "        self.length = length\n",
    "        self.width = width\n",
    "    def calculate_area(self):\n",
    "        return self.length * self.width\n",
    "r = 7\n",
    "circle = Circle(7)\n",
    "circle_area = circle.calculate_area()\n",
    "print(\"Radius of the circle:\", r)\n",
    "print(\"Circle Area:\", circle_area)\n",
    "l = 5\n",
    "w = 7\n",
    "rectangle = Rectangle(l, w)\n",
    "rectangle_area = rectangle.calculate_area()\n",
    "print(\"\\nRectangle: Length =\", l, \" Width =\", w)\n",
    "print(\"Rectangle Area:\", rectangle_area)\n"
   ]
  },
  {
   "cell_type": "code",
   "execution_count": 45,
   "id": "b6f82f21",
   "metadata": {},
   "outputs": [
    {
     "name": "stdout",
     "output_type": "stream",
     "text": [
      "(1, 1)\n"
     ]
    }
   ],
   "source": [
    "\"\"\"Q7: Extend the Point class to support subtraction. Implement the __sub__ method to allow \n",
    "subtracting one point from another.\"\"\"\n",
    "\n",
    "class Point:\n",
    "    def __init__(self,x, y):\n",
    "        self.x = x;\n",
    "        self.y = y;\n",
    "        \n",
    "    def __sub__(self, other):\n",
    "        return self.x - other.x, self.y - other.y;\n",
    "\n",
    "point1 = Point(2,4)\n",
    "point2 = Point(1,3)\n",
    "print( point1-point2)"
   ]
  }
 ],
 "metadata": {
  "kernelspec": {
   "display_name": "Python 3 (ipykernel)",
   "language": "python",
   "name": "python3"
  },
  "language_info": {
   "codemirror_mode": {
    "name": "ipython",
    "version": 3
   },
   "file_extension": ".py",
   "mimetype": "text/x-python",
   "name": "python",
   "nbconvert_exporter": "python",
   "pygments_lexer": "ipython3",
   "version": "3.9.7"
  }
 },
 "nbformat": 4,
 "nbformat_minor": 5
}
