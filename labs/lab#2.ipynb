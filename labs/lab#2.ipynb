{
 "cells": [
  {
   "cell_type": "code",
   "execution_count": 4,
   "metadata": {
    "collapsed": false
   },
   "outputs": [
    {
     "name": "stdout",
     "output_type": "stream",
     "text": [
      "please enter a number0\n",
      "Even number\n"
     ]
    }
   ],
   "source": [
    "x = int(input('please enter a number'))\n",
    "if x%2 == 0:\n",
    "    print('Even number')\n",
    "else:\n",
    "    print('Odd number')"
   ]
  },
  {
   "cell_type": "code",
   "execution_count": 9,
   "metadata": {
    "collapsed": false
   },
   "outputs": [
    {
     "name": "stdout",
     "output_type": "stream",
     "text": [
      "please enter a number70\n",
      "Your Grade is C\n"
     ]
    }
   ],
   "source": [
    "x = int(input('please enter a number'));\n",
    "if x >= 90 and x <= 100:\n",
    "    print(\"Your Grade is A\")\n",
    "elif x >= 80 and x <= 89:\n",
    "    print(\"Your Grade is B\")\n",
    "elif x >= 70 and x <= 79:\n",
    "    print(\"Your Grade is C\")\n",
    "elif x >= 60 and x <= 69:\n",
    "    print(\"Your Grade is D\")\n",
    "elif x < 60:\n",
    "    print(\"Your Your Fail\")\n",
    "else\n",
    "    print(\"Invalid number\")"
   ]
  },
  {
   "cell_type": "code",
   "execution_count": 4,
   "metadata": {
    "collapsed": false
   },
   "outputs": [
    {
     "name": "stdout",
     "output_type": "stream",
     "text": [
      "please enter a number45\n",
      "Odd number: 45\n"
     ]
    }
   ],
   "source": [
    "x = int(input('please enter a Integer'))\n",
    "if x == 0:\n",
    "    print('Number is Zero')\n",
    "elif x%2 == 0:\n",
    "    print('Positive number', x)\n",
    "else:\n",
    "    print('Odd number:', x)"
   ]
  },
  {
   "cell_type": "code",
   "execution_count": 13,
   "metadata": {
    "collapsed": false
   },
   "outputs": [
    {
     "name": "stdout",
     "output_type": "stream",
     "text": [
      "please enter a number5\n",
      "please enter a range10\n",
      "1 * 5 = 5\n",
      "2 * 5 = 10\n",
      "3 * 5 = 15\n",
      "4 * 5 = 20\n",
      "5 * 5 = 25\n",
      "6 * 5 = 30\n",
      "7 * 5 = 35\n",
      "8 * 5 = 40\n",
      "9 * 5 = 45\n",
      "10 * 5 = 50\n"
     ]
    }
   ],
   "source": [
    "x = int(input('please enter a number'))\n",
    "y = int(input('please enter a range'))\n",
    "for i in range(1,y+1):\n",
    "    print(str(i) + \" * \" + str(x)+ \" = \" + str(i * x))"
   ]
  },
  {
   "cell_type": "code",
   "execution_count": 3,
   "metadata": {
    "collapsed": false
   },
   "outputs": [
    {
     "name": "stdout",
     "output_type": "stream",
     "text": [
      "please enter a number345\n",
      "345\n",
      "34\n",
      "3\n",
      "Number of digits: 3\n"
     ]
    }
   ],
   "source": [
    "num = int(input('please enter a number'))\n",
    "count = 0\n",
    "while num != 0:\n",
    "    num //= 10\n",
    "    count += 1\n",
    "print(\"Number of digits: \" + str(count))"
   ]
  },
  {
   "cell_type": "code",
   "execution_count": 19,
   "metadata": {
    "collapsed": false
   },
   "outputs": [
    {
     "name": "stdout",
     "output_type": "stream",
     "text": [
      "please enter a number34\n",
      "please enter a range56\n",
      "please enter a number54\n",
      "56  is the larget number\n"
     ]
    }
   ],
   "source": [
    "a = int(input('please enter a number'))\n",
    "b = int(input('please enter a range'))\n",
    "c = int(input('please enter a number'))\n",
    "if (a >= b) and (a >= c): \n",
    "    print(a, \"is the larget number\") \n",
    "elif (b >= a) and (b >= c): \n",
    "    print(b, \"is the larget number\")\n",
    "else: \n",
    "    print(c, \"is the larget number\")\n"
   ]
  },
  {
   "cell_type": "code",
   "execution_count": 23,
   "metadata": {
    "collapsed": false
   },
   "outputs": [
    {
     "name": "stdout",
     "output_type": "stream",
     "text": [
      "from5\n",
      "to7\n",
      "Table: 5\n",
      "1 * 5 = 5\n",
      "2 * 5 = 10\n",
      "3 * 5 = 15\n",
      "4 * 5 = 20\n",
      "5 * 5 = 25\n",
      "6 * 5 = 30\n",
      "7 * 5 = 35\n",
      "8 * 5 = 40\n",
      "9 * 5 = 45\n",
      "10 * 5 = 50\n",
      "Table: 6\n",
      "1 * 6 = 6\n",
      "2 * 6 = 12\n",
      "3 * 6 = 18\n",
      "4 * 6 = 24\n",
      "5 * 6 = 30\n",
      "6 * 6 = 36\n",
      "7 * 6 = 42\n",
      "8 * 6 = 48\n",
      "9 * 6 = 54\n",
      "10 * 6 = 60\n",
      "Table: 7\n",
      "1 * 7 = 7\n",
      "2 * 7 = 14\n",
      "3 * 7 = 21\n",
      "4 * 7 = 28\n",
      "5 * 7 = 35\n",
      "6 * 7 = 42\n",
      "7 * 7 = 49\n",
      "8 * 7 = 56\n",
      "9 * 7 = 63\n",
      "10 * 7 = 70\n"
     ]
    }
   ],
   "source": [
    "x = int(input('from'))\n",
    "y = int(input('to'))\n",
    "for j in range(x, y+1):\n",
    "    print(\"Table:\", j)\n",
    "    for i in range(1,10+1):\n",
    "        print(str(i) + \" * \" + str(j)+ \" = \" + str(i * j))"
   ]
  },
  {
   "cell_type": "code",
   "execution_count": 11,
   "metadata": {
    "collapsed": false
   },
   "outputs": [
    {
     "name": "stdout",
     "output_type": "stream",
     "text": [
      "\n",
      "*\n",
      "**\n",
      "***\n",
      "****\n",
      "*****\n",
      "******\n",
      "*******\n",
      "********\n",
      "*********\n"
     ]
    }
   ],
   "source": [
    "for i in range(10):\n",
    "    for j in range(10):\n",
    "        print(j * \"*\")\n",
    "    break"
   ]
  },
  {
   "cell_type": "code",
   "execution_count": 27,
   "metadata": {
    "collapsed": false
   },
   "outputs": [
    {
     "name": "stdout",
     "output_type": "stream",
     "text": [
      "**********\n",
      "*********\n",
      "********\n",
      "*******\n",
      "******\n",
      "*****\n",
      "****\n",
      "***\n",
      "**\n"
     ]
    }
   ],
   "source": [
    "for i in range(10):\n",
    "    for j in range(10,1,-1):\n",
    "        print(j * \"*\")\n",
    "    break"
   ]
  },
  {
   "cell_type": "code",
   "execution_count": 1,
   "metadata": {
    "collapsed": false
   },
   "outputs": [
    {
     "name": "stdout",
     "output_type": "stream",
     "text": [
      "           \n",
      "          \n",
      "         \n",
      "        \n",
      "       \n",
      "      \n",
      "     \n",
      "    \n",
      "   \n"
     ]
    }
   ],
   "source": [
    "for i in range(10):\n",
    "    for j in range(10,1,-1):\n",
    "        print(j * \" \", i * \"*\")\n",
    "    break"
   ]
  },
  {
   "cell_type": "code",
   "execution_count": null,
   "metadata": {
    "collapsed": true
   },
   "outputs": [],
   "source": []
  },
  {
   "cell_type": "code",
   "execution_count": null,
   "metadata": {
    "collapsed": true
   },
   "outputs": [],
   "source": []
  }
 ],
 "metadata": {
  "anaconda-cloud": {},
  "kernelspec": {
   "display_name": "Python [Root]",
   "language": "python",
   "name": "Python [Root]"
  },
  "language_info": {
   "codemirror_mode": {
    "name": "ipython",
    "version": 3
   },
   "file_extension": ".py",
   "mimetype": "text/x-python",
   "name": "python",
   "nbconvert_exporter": "python",
   "pygments_lexer": "ipython3",
   "version": "3.5.2"
  }
 },
 "nbformat": 4,
 "nbformat_minor": 0
}
